{
 "cells": [
  {
   "cell_type": "code",
   "execution_count": 314,
   "id": "dd4b8cdc",
   "metadata": {},
   "outputs": [],
   "source": [
    "#Import Libraries\n",
    "import pandas as pd\n",
    "import numpy as np\n",
    "\n",
    "import matplotlib.pyplot as plt\n",
    "plt.style.use('seaborn')\n",
    "import seaborn as sns\n",
    "\n",
    "pd.options.mode.chained_assignment = None  \n",
    "pd.set_option('display.max_columns',80)  # or 1000\n",
    "pd.set_option('display.max_rows', 100)  # or 1000\n",
    "\n",
    "from sklearn import preprocessing\n",
    "\n",
    "\n",
    "import ast #For converting string to list\n",
    "\n",
    "import warnings\n",
    "warnings.filterwarnings('ignore')"
   ]
  },
  {
   "cell_type": "code",
   "execution_count": 315,
   "id": "4f58f1bb",
   "metadata": {},
   "outputs": [
    {
     "name": "stdout",
     "output_type": "stream",
     "text": [
      "24551 examples, 106 features\n",
      "It contains 0 duplicates.\n"
     ]
    }
   ],
   "source": [
    "#Import dataset\n",
    "df_raw = pd.read_csv('listings.csv')\n",
    "\n",
    "#Checking Shape\n",
    "print(f'{df_raw.shape[0]} examples, {df_raw.shape[1]} features')\n",
    "\n",
    "# ... and duplicates\n",
    "print(\"It contains {} duplicates.\".format(df_raw.duplicated().sum()))\n"
   ]
  },
  {
   "cell_type": "code",
   "execution_count": 316,
   "id": "cd3ee98b",
   "metadata": {},
   "outputs": [
    {
     "name": "stdout",
     "output_type": "stream",
     "text": [
      "106 total column count\n",
      "\n",
      "26 useless columns\n",
      "2 columns with link included\n",
      "11 text columns\n",
      "3 date type columns\n",
      "22  categorical columns\n"
     ]
    }
   ],
   "source": [
    "# Deciding which columns to work with\n",
    "\n",
    "#1 City, street, state are mostly same for all, id is unique and scrape_id is same for all.\n",
    "#2 experiences_offered, thumbnail_url, medium_url are  empty\n",
    "#3 picture_url, host_thumbnail_url, host_picture_url links are broken.\n",
    "\n",
    "columns_to_discard = ['city','scrape_id','experiences_offered','thumbnail_url','medium_url',\n",
    "                     'picture_url','xl_picture_url','host_acceptance_rate','host_thumbnail_url',\n",
    "                     'host_picture_url','street','state','market','smart_location','country_code',\n",
    "                     'country','has_availability','calendar_last_scraped','license','jurisdiction_names',\n",
    "                     'is_business_travel_ready','host_name','square_feet',\n",
    "                     'calendar_updated','host_id','zipcode']\n",
    "\n",
    "#Columns with working link: Can be used for data scraping\n",
    "linked_columns= ['listing_url','host_url']\n",
    "\n",
    "#Columns that can be analyzed with NLP\n",
    "text_columns = ['name','summary','space','description','neighborhood_overview',\n",
    "               'notes','transit','access','interaction','house_rules','host_about']\n",
    "\n",
    "#Date columns can be feature-engineered\n",
    "date_columns = ['host_since','first_review','last_review',]\n",
    "\n",
    "#Categorical columns (will be converted to categories)\n",
    "cat_columns = ['last_scraped','host_response_time','host_response_rate','host_is_superhost',\n",
    "              'host_neighbourhood','host_verifications','host_has_profile_pic','host_identity_verified',\n",
    "              'neighbourhood','neighbourhood_cleansed','neighbourhood_group_cleansed','is_location_exact',\n",
    "              'property_type','room_type','bed_type','amenities','calendar_updated','requires_license',\n",
    "              'instant_bookable','cancellation_policy','require_guest_profile_picture',\n",
    "               'require_guest_phone_verification']\n",
    "\n",
    "target_column = 'price'\n",
    "\n",
    "print(len(df_raw.columns),'total column count\\n')\n",
    "print(len(columns_to_discard), 'useless columns')\n",
    "print(len(linked_columns),'columns with link included')\n",
    "print(len(text_columns),'text columns')\n",
    "print(len(date_columns),'date type columns')\n",
    "print(len(cat_columns),' categorical columns')"
   ]
  },
  {
   "cell_type": "markdown",
   "id": "47f071bf",
   "metadata": {},
   "source": [
    "### Notes:\n",
    "\n",
    "* Interesting feature is text german or english\n",
    "* Didn't understand host_listings_count and host_total_listings_count (will look more closely)\n",
    "They are almost same (only 51 of them different from 24551)\n",
    "* Zipcode should be investigated more (to understand the correlation between numbers and location\n",
    "if there is any.)\n",
    "* How bathrooms can be a decimal number like 2.5 =)\n",
    "* Square_feet, weekly/monthly prices are mostly NaN\n",
    "* What is the difference between minimum_nights vs minimum_minimum_nights (23748 of them are same)\n",
    "* Interesting visualizations for review columns (Average is not 5 for example. So we may shift the average)\n",
    "* host_neighbourhood can be processed as inside the city vs outside the city. (Need Berlin's neighbourhoods)\n"
   ]
  },
  {
   "cell_type": "code",
   "execution_count": 317,
   "id": "3f8fa54f",
   "metadata": {},
   "outputs": [
    {
     "name": "stdout",
     "output_type": "stream",
     "text": [
      "0\n",
      "Price data doesnt have any null, which means we can use the full dataset for prediction model\n"
     ]
    }
   ],
   "source": [
    "#Check if there is any nan value in price\n",
    "print(df_raw.price.isna().sum())\n",
    "print('Price data doesnt have any null, which means we can use the full dataset for prediction model')"
   ]
  },
  {
   "cell_type": "code",
   "execution_count": 318,
   "id": "f326eb4f",
   "metadata": {},
   "outputs": [
    {
     "name": "stdout",
     "output_type": "stream",
     "text": [
      "shape of df: (24551, 80)\n",
      "26 useless columns are dropped\n"
     ]
    }
   ],
   "source": [
    "#Dropping useless columns\n",
    "def drop_useless_columns(df):\n",
    "    temp = df.copy()   \n",
    "    temp= temp.drop(columns= columns_to_discard)\n",
    "    \n",
    "    print('shape of df:',temp.shape)\n",
    "    print(len(columns_to_discard),'useless columns are dropped')\n",
    "    \n",
    "    return temp\n",
    "\n",
    "df_raw = drop_useless_columns(df_raw)"
   ]
  },
  {
   "cell_type": "code",
   "execution_count": 319,
   "id": "77357e71",
   "metadata": {},
   "outputs": [
    {
     "name": "stdout",
     "output_type": "stream",
     "text": [
      "shape of df: (24551, 67)\n",
      "13 text columns are dropped\n"
     ]
    }
   ],
   "source": [
    "#Dropping text columns ( will handle them seperately after)\n",
    "def drop_text_columns(df):\n",
    "    temp = df.copy()\n",
    "    temp_columns = text_columns + linked_columns\n",
    "    temp = temp.drop(columns = temp_columns)\n",
    "\n",
    "    print('shape of df:',temp.shape)\n",
    "    print(len(temp_columns),'text columns are dropped')\n",
    "    \n",
    "    return temp\n",
    "\n",
    "df_raw = drop_text_columns(df_raw)"
   ]
  },
  {
   "cell_type": "markdown",
   "id": "46128ae9",
   "metadata": {},
   "source": [
    "## Preprocessing the Data\n"
   ]
  },
  {
   "cell_type": "code",
   "execution_count": 355,
   "id": "c7427503",
   "metadata": {},
   "outputs": [
    {
     "name": "stdout",
     "output_type": "stream",
     "text": [
      "Column Name: NaN Count\n",
      "-----------------------\n",
      "host_response_rate : 10401\n",
      "bathrooms : 29\n",
      "bedrooms : 19\n",
      "beds : 31\n",
      "weekly_price : 21209\n",
      "monthly_price : 22134\n",
      "first_review : 4313\n",
      "last_review : 4313\n",
      "review_scores_rating : 4802\n",
      "review_scores_accuracy : 4828\n",
      "review_scores_cleanliness : 4825\n",
      "review_scores_checkin : 4847\n",
      "review_scores_communication : 4830\n",
      "review_scores_location : 4846\n",
      "review_scores_value : 4849\n",
      "cancellation_policy : 1\n",
      "reviews_per_month : 4313\n"
     ]
    }
   ],
   "source": [
    "#Finding NaN values\n",
    "def print_nan_counts(df):\n",
    "    print('Column Name: NaN Count')\n",
    "    print('-----------------------')\n",
    "    for column in df.columns:\n",
    "        if any(df[column].isna()):\n",
    "            print(column,':' ,df[column].isna().sum())\n",
    "\n",
    "print_nan_counts(df_raw)"
   ]
  },
  {
   "cell_type": "markdown",
   "id": "a86b23d6",
   "metadata": {},
   "source": [
    "I decided to get rid of that 51 rows since in most of the columns they don't have any information. 6 columns are dropped."
   ]
  },
  {
   "cell_type": "code",
   "execution_count": 321,
   "id": "8e2a8ab9",
   "metadata": {},
   "outputs": [
    {
     "name": "stdout",
     "output_type": "stream",
     "text": [
      "shape of df: (24500, 67)\n"
     ]
    }
   ],
   "source": [
    "#Get rid of that 51 empty rows:\n",
    "df_raw = df_raw[df_raw['host_since'].isna() == False]\n",
    "\n",
    "print('shape of df:',df_raw.shape)"
   ]
  },
  {
   "cell_type": "code",
   "execution_count": 322,
   "id": "27dbea03",
   "metadata": {},
   "outputs": [],
   "source": [
    "#intersection of two lists Return true if there is at least one intersection\n",
    "def intersection(lst1, lst2):\n",
    "    lst3 = [value for value in lst1 if value in lst2]\n",
    "    return len(lst3) != 0"
   ]
  },
  {
   "cell_type": "code",
   "execution_count": 323,
   "id": "fc4b6949",
   "metadata": {},
   "outputs": [],
   "source": [
    "#Categorize Host Location as Berlin, Outside of Berlin, Outside of Germany and Unknown\n",
    "def categorize_host_location(df):\n",
    "    \n",
    "    temp = df.copy() \n",
    "    locations = []\n",
    "    counter = 0\n",
    "    words =['Germany','DE']\n",
    "\n",
    "    for _,row in temp.iterrows():\n",
    "\n",
    "        location = row['host_location']    \n",
    "        location= str(location)\n",
    "        word_list = location.split(', ')\n",
    "\n",
    "        if 'Berlin' in word_list:\n",
    "            locations.append('Berlin')\n",
    "\n",
    "        elif intersection(words,word_list):\n",
    "            locations.append('Outside-of-Berlin')\n",
    "            \n",
    "        elif word_list[0] =='nan':\n",
    "            locations.append('Unknown')\n",
    "        else:\n",
    "            #print(location)\n",
    "            locations.append('Outside of Germany')\n",
    "\n",
    "    temp['host_location'] = locations       \n",
    "\n",
    "    return temp\n",
    "\n",
    "\n",
    "df_raw = categorize_host_location(df_raw)"
   ]
  },
  {
   "cell_type": "code",
   "execution_count": 324,
   "id": "8603aff2",
   "metadata": {},
   "outputs": [],
   "source": [
    "#Categorize Host Neighbourhood get most popular 15 and labels others as \"others\"\n",
    "def categorize_host_neighbourhood(df):\n",
    "    temp = df.copy()\n",
    "    popular_neighbourhoods = ['Neukölln', 'Prenzlauer Berg','Kreuzberg','Friedrichshain',\n",
    "      'Mitte','Wedding','Schöneberg','Charlottenburg','Moabit',\n",
    "      'Wilmersdorf','Pankow','Tempelhof','Rummelsburg','Weißensee','Tiergarten']\n",
    "    \n",
    "    hood_list=[]\n",
    "    \n",
    "    for hood in temp['host_neighbourhood']:\n",
    "        if hood in popular_neighbourhoods:\n",
    "            hood_list.append(hood)\n",
    "        else:\n",
    "            hood_list.append('other')\n",
    "    \n",
    "    temp['host_neighbourhood'] = hood_list\n",
    "    \n",
    "    return temp\n",
    "\n",
    "df_raw = categorize_host_neighbourhood(df_raw)"
   ]
  },
  {
   "cell_type": "code",
   "execution_count": 325,
   "id": "cdfc3f9c",
   "metadata": {},
   "outputs": [],
   "source": [
    "#Replace NaN values with 0:\n",
    "def replace_nan(df,column):\n",
    "    temp = df.copy()\n",
    "    temp[column] = temp[column].fillna('$0.00')\n",
    "    \n",
    "    return temp\n",
    "\n",
    "#Probably they are not charging cleaning fee and security deposits that's why they are nan.\n",
    "df_raw = replace_nan(df_raw,'cleaning_fee')\n",
    "df_raw = replace_nan(df_raw,'security_deposit')"
   ]
  },
  {
   "cell_type": "code",
   "execution_count": 326,
   "id": "efdeebb0",
   "metadata": {},
   "outputs": [
    {
     "name": "stdout",
     "output_type": "stream",
     "text": [
      "Column Name: NaN Count\n",
      "-----------------------\n",
      "host_response_time : 10401\n",
      "host_response_rate : 10401\n",
      "bathrooms : 29\n",
      "bedrooms : 19\n",
      "beds : 31\n",
      "weekly_price : 21209\n",
      "monthly_price : 22134\n",
      "first_review : 4313\n",
      "last_review : 4313\n",
      "review_scores_rating : 4802\n",
      "review_scores_accuracy : 4828\n",
      "review_scores_cleanliness : 4825\n",
      "review_scores_checkin : 4847\n",
      "review_scores_communication : 4830\n",
      "review_scores_location : 4846\n",
      "review_scores_value : 4849\n",
      "cancellation_policy : 1\n",
      "reviews_per_month : 4313\n"
     ]
    }
   ],
   "source": [
    "print_nan_counts(df_raw)"
   ]
  },
  {
   "cell_type": "markdown",
   "id": "adcb8e7a",
   "metadata": {},
   "source": [
    "I'm planning to use XgBoost for the model and since XgBoost has the capability of handling missing data during training."
   ]
  },
  {
   "cell_type": "code",
   "execution_count": 327,
   "id": "22ae4725",
   "metadata": {},
   "outputs": [],
   "source": [
    "def convert_prices_into_float(df):\n",
    "    temp = df.copy()\n",
    "    \n",
    "    price_columns = ['price','weekly_price','monthly_price','cleaning_fee','security_deposit','extra_people']\n",
    "    for column in price_columns:\n",
    "        temp[column] = temp[column].str.replace('$','').str.replace(',', '').astype(float)\n",
    "        \n",
    "    return temp\n",
    "\n",
    "df_raw= convert_prices_into_float(df_raw)"
   ]
  },
  {
   "cell_type": "code",
   "execution_count": 328,
   "id": "a582003e",
   "metadata": {},
   "outputs": [],
   "source": [
    "def categorize_ordinal_columns(df):\n",
    "    temp = df.copy()\n",
    "    cleanup_nums = {\"room_type\": {\"Entire home/apt\": 1, \"Private room\": 2, \"Shared room\": 3},\n",
    "                   \"cancellation_policy\": {\"flexible\": 1, \"moderate\": 2, \"strict\": 3,\n",
    "                                           \"strict_14_with_grace_period\": 3, \"super_strict_30\": 4,\n",
    "                                          \"super_strict_60\": 5},\n",
    "                   \"bed_type\": {\"Real Bed\": 1, \"Pull-out Sofa\": 2, \"Futon\": 3, 'Couch': 4, 'Airbed': 5}}\n",
    "    temp =temp.replace(cleanup_nums)\n",
    "    \n",
    "    return temp\n",
    "df_raw = categorize_ordinal_columns(df_raw)"
   ]
  },
  {
   "cell_type": "code",
   "execution_count": 329,
   "id": "bcb64cbe",
   "metadata": {},
   "outputs": [],
   "source": [
    " def categorize_columns(columns,df):\n",
    "        le = preprocessing.LabelEncoder()\n",
    "        temp = df.copy()\n",
    "        \n",
    "        for feature in columns:\n",
    "            temp[feature] = le.fit_transform(temp[feature])\n",
    "            \n",
    "        return temp"
   ]
  },
  {
   "cell_type": "code",
   "execution_count": 330,
   "id": "25e08d56",
   "metadata": {},
   "outputs": [],
   "source": [
    "#Columns to categorize\n",
    "col_to_cat= ['host_location','host_response_time','host_is_superhost',\n",
    "             'host_neighbourhood','neighbourhood_cleansed',\n",
    "             'neighbourhood_group_cleansed',\n",
    "             'require_guest_phone_verification','require_guest_profile_picture',\n",
    "             'instant_bookable','requires_license','is_location_exact',\n",
    "             'host_has_profile_pic','host_identity_verified',\n",
    "             'property_type','neighbourhood']\n",
    "\n",
    "df_raw= categorize_columns(col_to_cat,df_raw)"
   ]
  },
  {
   "cell_type": "code",
   "execution_count": 331,
   "id": "24639ab6",
   "metadata": {},
   "outputs": [],
   "source": [
    "#Create verification features:\n",
    "def convert_string_to_list(string):\n",
    "    return ast.literal_eval(string)\n",
    "\n",
    "def create_verification_features(df):\n",
    "    temp = df.copy()\n",
    "    verifications = ['email','phone','facebook','reviews','government_id','selfie']\n",
    "    \n",
    "    temp.host_verifications = temp.host_verifications.apply(convert_string_to_list)\n",
    "\n",
    "    for verification in verifications:\n",
    "        temp[verification] = [True if verification in x else False for x in temp.host_verifications]\n",
    "        \n",
    "    temp.drop(columns=['host_verifications'],inplace=True)\n",
    "        \n",
    "    return temp"
   ]
  },
  {
   "cell_type": "code",
   "execution_count": 332,
   "id": "92ee48c2",
   "metadata": {},
   "outputs": [],
   "source": [
    "df_raw = create_verification_features(df_raw)"
   ]
  },
  {
   "cell_type": "code",
   "execution_count": 353,
   "id": "6a3f98a0",
   "metadata": {},
   "outputs": [],
   "source": [
    "def categorize_amenities(df):\n",
    "    temp = df.copy()\n",
    "    #amenit_list= set()\n",
    "    amenit_count = []\n",
    "    for i,row in temp.iterrows():\n",
    "        amenit_list= []\n",
    "        for amenit in row['amenities'].split('{')[1].split('\"'):\n",
    "            if len(list(amenit)) !=1:\n",
    "                #amenit = amenit.replace(',',' ')\n",
    "                #amenit = amenit.replace('\"',' ')\n",
    "                amenit = amenit.replace(' ','')\n",
    "                amenit = amenit.replace('}','')\n",
    "                temp_list = amenit.split(',')     \n",
    "                temp_list = [i for i in temp_list if i]\n",
    "                amenit_list.extend(temp_list)\n",
    "        #print(len(amenit_list))\n",
    "        amenit_count.append(len(amenit_list))\n",
    "                #amenit_list.update(temp_list)\n",
    "    #print(amenit_list)\n",
    "\n",
    "    temp['amenities_count'] = amenit_count\n",
    "    temp.drop(columns = ['amenities'],inplace=True)\n",
    "    \n",
    "    return temp\n",
    "\n",
    "df_raw = categorize_amenities(df_raw)"
   ]
  },
  {
   "cell_type": "code",
   "execution_count": 338,
   "id": "3d1fb524",
   "metadata": {},
   "outputs": [
    {
     "data": {
      "text/plain": [
       "0         40.0\n",
       "1         97.0\n",
       "2        100.0\n",
       "3         75.0\n",
       "4        100.0\n",
       "         ...  \n",
       "24546    100.0\n",
       "24547      NaN\n",
       "24548    100.0\n",
       "24549      NaN\n",
       "24550      NaN\n",
       "Name: host_response_rate, Length: 24500, dtype: float64"
      ]
     },
     "execution_count": 338,
     "metadata": {},
     "output_type": "execute_result"
    }
   ],
   "source": [
    "def drop_percent(string):\n",
    "    try:\n",
    "        return int(string.replace('%',''))\n",
    "    except:\n",
    "        return np.nan\n",
    "\n",
    "df_raw.host_response_rate = df_raw.host_response_rate.apply(drop_percent)"
   ]
  },
  {
   "cell_type": "code",
   "execution_count": 354,
   "id": "73f93d5e",
   "metadata": {},
   "outputs": [
    {
     "name": "stdout",
     "output_type": "stream",
     "text": [
      "Columns with \"object\" type :\n"
     ]
    },
    {
     "data": {
      "text/plain": [
       "['last_scraped', 'host_since', 'first_review', 'last_review']"
      ]
     },
     "execution_count": 354,
     "metadata": {},
     "output_type": "execute_result"
    }
   ],
   "source": [
    "print('Columns with \"object\" type :')\n",
    "[ column for column in df_raw.columns if df_raw[column].dtype == object ]"
   ]
  },
  {
   "cell_type": "markdown",
   "id": "878f829e",
   "metadata": {},
   "source": [
    "The last columns that I didnt preprocessed are date columns. For now, I would drop these to continue my analysis. After creating the pipeline this part can be use for feature engineering.\n",
    "\n",
    "## Exploratory Data Analysis"
   ]
  },
  {
   "cell_type": "code",
   "execution_count": 334,
   "id": "f9291b42",
   "metadata": {},
   "outputs": [
    {
     "name": "stdout",
     "output_type": "stream",
     "text": [
      "414615\n"
     ]
    },
    {
     "data": {
      "text/plain": [
       "<AxesSubplot:xlabel='0'>"
      ]
     },
     "execution_count": 334,
     "metadata": {},
     "output_type": "execute_result"
    },
    {
     "data": {
      "image/png": "[encoded data removed]",
      "text/plain": [
       "<Figure size 576x396 with 1 Axes>"
      ]
     },
     "metadata": {},
     "output_type": "display_data"
    }
   ],
   "source": [
    "amenit_list= []\n",
    "for i,row in df_raw.iterrows():\n",
    "    for amenit in row['amenities'].split('{')[1].split('\"'):\n",
    "        if len(list(amenit)) !=1:\n",
    "            #amenit = amenit.replace(',',' ')\n",
    "            #amenit = amenit.replace('\"',' ')\n",
    "            amenit = amenit.replace(' ','')\n",
    "            amenit = amenit.replace('}','')\n",
    "            temp_list = amenit.split(',')     \n",
    "            temp_list = [i for i in temp_list if i]\n",
    "            #print(temp_list)\n",
    "            amenit_list.extend(temp_list)\n",
    "print(len(amenit_list))\n",
    "\n",
    "amenit_list = pd.DataFrame(amenit_list)\n",
    "amenit_list.value_counts().head(20).plot(kind='bar')"
   ]
  },
  {
   "cell_type": "code",
   "execution_count": null,
   "id": "fbad2344",
   "metadata": {},
   "outputs": [],
   "source": [
    "df_raw1.reset_index(drop=True,inplace= True)"
   ]
  },
  {
   "cell_type": "code",
   "execution_count": null,
   "id": "aa9b7a68",
   "metadata": {},
   "outputs": [],
   "source": []
  }
 ],
 "metadata": {
  "kernelspec": {
   "display_name": "Python 3 (ipykernel)",
   "language": "python",
   "name": "python3"
  },
  "language_info": {
   "codemirror_mode": {
    "name": "ipython",
    "version": 3
   },
   "file_extension": ".py",
   "mimetype": "text/x-python",
   "name": "python",
   "nbconvert_exporter": "python",
   "pygments_lexer": "ipython3",
   "version": "3.8.5"
  }
 },
 "nbformat": 4,
 "nbformat_minor": 5
}
