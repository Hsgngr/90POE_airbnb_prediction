{
 "cells": [
  {
   "cell_type": "code",
   "execution_count": 36,
   "id": "5c7edf81",
   "metadata": {},
   "outputs": [],
   "source": [
    "#Import libraries\n",
    "import pandas as pd\n",
    "import numpy as np\n",
    "\n",
    "#Data Management\n",
    "import joblib\n",
    "\n",
    "#Training\n",
    "import xgboost as xgb\n",
    "\n",
    "# import train_test_split function\n",
    "from sklearn.model_selection import train_test_split\n",
    "# import metrics\n",
    "from sklearn.metrics import mean_squared_error, r2_score\n",
    "\n",
    "from sklearn.preprocessing import StandardScaler\n",
    "\n",
    "#Visualization\n",
    "import matplotlib.pyplot as plt"
   ]
  },
  {
   "cell_type": "code",
   "execution_count": 38,
   "id": "517239d7",
   "metadata": {},
   "outputs": [],
   "source": [
    "df = joblib.load('data/df_processed_2.pkl')"
   ]
  },
  {
   "cell_type": "code",
   "execution_count": 39,
   "id": "24fbc51c",
   "metadata": {},
   "outputs": [],
   "source": [
    "df.drop(columns=['id'],inplace=True)\n",
    "\n",
    "target = df.pop('price')"
   ]
  },
  {
   "cell_type": "code",
   "execution_count": 10,
   "id": "e864fcb2",
   "metadata": {},
   "outputs": [],
   "source": [
    "# split our data\n",
    "X_train, X_test, y_train, y_test = train_test_split(df, target, test_size=0.2)\n"
   ]
  },
  {
   "cell_type": "code",
   "execution_count": 11,
   "id": "58549751",
   "metadata": {},
   "outputs": [],
   "source": [
    "# scale data\n",
    "sc = StandardScaler()\n",
    "X_train = sc.fit_transform(X_train)\n",
    "X_test  = sc.transform(X_test)"
   ]
  },
  {
   "cell_type": "code",
   "execution_count": 16,
   "id": "c942455b",
   "metadata": {},
   "outputs": [],
   "source": [
    "# create a baseline\n",
    "booster = xgb.XGBRegressor()"
   ]
  },
  {
   "cell_type": "code",
   "execution_count": null,
   "id": "38045079",
   "metadata": {},
   "outputs": [],
   "source": [
    "from sklearn.model_selection import GridSearchCV\n",
    "\n",
    "# create Grid\n",
    "param_grid = {'n_estimators': [100, 150, 200],\n",
    "              'learning_rate': [0.01, 0.05, 0.1], \n",
    "              'max_depth': [3, 4, 5, 6, 7],\n",
    "              'colsample_bytree': [0.6, 0.7, 1],\n",
    "              'gamma': [0.0, 0.1, 0.2]}\n",
    "\n",
    "# instantiate the tuned random forest\n",
    "booster_grid_search = GridSearchCV(booster, param_grid, cv=3, n_jobs=-1)\n",
    "\n",
    "# train the tuned random forest\n",
    "booster_grid_search.fit(X_train, y_train)\n",
    "\n",
    "# print best estimator parameters found during the grid search\n",
    "print(booster_grid_search.best_params_)"
   ]
  },
  {
   "cell_type": "markdown",
   "id": "b83b3a0e",
   "metadata": {},
   "source": [
    "{'colsample_bytree': 0.6, 'gamma': 0.0, 'learning_rate': 0.05, 'max_depth': 7, 'n_estimators': 200}\n"
   ]
  },
  {
   "cell_type": "code",
   "execution_count": 18,
   "id": "b930d1ff",
   "metadata": {},
   "outputs": [],
   "source": [
    "# instantiate xgboost with best parameters\n",
    "booster = xgb.XGBRegressor(colsample_bytree=0.7, gamma=0.2, learning_rate=0.1, \n",
    "                           max_depth=6, n_estimators=200, random_state=4)\n",
    "\n",
    "# train\n",
    "booster.fit(X_train, y_train)\n",
    "\n",
    "# predict\n",
    "y_pred_train = booster.predict(X_train)\n",
    "y_pred_test = booster.predict(X_test)"
   ]
  },
  {
   "cell_type": "code",
   "execution_count": 19,
   "id": "acc0c4a5",
   "metadata": {},
   "outputs": [
    {
     "name": "stdout",
     "output_type": "stream",
     "text": [
      "RMSE: 26.7826\n"
     ]
    }
   ],
   "source": [
    "RMSE = np.sqrt(mean_squared_error(y_test, y_pred_test))\n",
    "print(f\"RMSE: {round(RMSE, 4)}\")"
   ]
  },
  {
   "cell_type": "code",
   "execution_count": 20,
   "id": "1743adb9",
   "metadata": {},
   "outputs": [
    {
     "name": "stdout",
     "output_type": "stream",
     "text": [
      "r2: 0.6643\n"
     ]
    }
   ],
   "source": [
    "r2 = r2_score(y_test, y_pred_test)\n",
    "r2\n",
    "print(f\"r2: {round(r2, 4)}\")"
   ]
  },
  {
   "cell_type": "code",
   "execution_count": 24,
   "id": "65a1c5f0",
   "metadata": {},
   "outputs": [
    {
     "data": {
      "image/png": "[encoded data removed]",
      "text/plain": [
       "<Figure size 720x360 with 1 Axes>"
      ]
     },
     "metadata": {
      "needs_background": "light"
     },
     "output_type": "display_data"
    }
   ],
   "source": [
    "# plot the important features\n",
    "feat_importances = pd.Series(booster.feature_importances_, index=df.columns)\n",
    "feat_importances.nlargest(15).sort_values().plot(kind='barh', color='darkgrey', figsize=(10,5))\n",
    "plt.xlabel('Relative Feature Importance with XGBoost');\n"
   ]
  },
  {
   "cell_type": "code",
   "execution_count": 25,
   "id": "58387f46",
   "metadata": {},
   "outputs": [
    {
     "data": {
      "text/plain": [
       "0         4.633575\n",
       "1         3.533473\n",
       "2         3.696110\n",
       "3         3.755653\n",
       "4         3.565951\n",
       "           ...    \n",
       "24546     2.565826\n",
       "24547     0.991120\n",
       "24548     3.090134\n",
       "24549    18.421364\n",
       "24550     3.518381\n",
       "Name: distance, Length: 24348, dtype: float64"
      ]
     },
     "execution_count": 25,
     "metadata": {},
     "output_type": "execute_result"
    }
   ],
   "source": [
    "df['distance']"
   ]
  },
  {
   "cell_type": "code",
   "execution_count": 26,
   "id": "09dfe367",
   "metadata": {},
   "outputs": [],
   "source": [
    "df_raw = pd.read_csv('listings.csv')"
   ]
  },
  {
   "cell_type": "code",
   "execution_count": 35,
   "id": "c3e58083",
   "metadata": {},
   "outputs": [
    {
     "data": {
      "text/plain": [
       "'The flat is in a quiet building in a lively area with bars, restaurants and supermarkets.  By subway you are in 20 minutes at Zoologischer Garten, Alexanderplatz or the Bundestag.  Close to the flat is food market every Tuesday and Friday. The flat provides a fast and stable WiFi connection, a washing Maschine, dishwasher, stove, fridge, shower and of course towels and linen.  In your room is a bed 2mx1,60m for two person and in the living room two sofas and a mattress.  You will have enough space to put all your clothes in the wardrobe or to hang your jackets and stuff.'"
      ]
     },
     "execution_count": 35,
     "metadata": {},
     "output_type": "execute_result"
    }
   ],
   "source": [
    "df_raw['space'][12346]"
   ]
  },
  {
   "cell_type": "code",
   "execution_count": null,
   "id": "978d8d82",
   "metadata": {},
   "outputs": [],
   "source": []
  }
 ],
 "metadata": {
  "kernelspec": {
   "display_name": "Python 3 (ipykernel)",
   "language": "python",
   "name": "python3"
  },
  "language_info": {
   "codemirror_mode": {
    "name": "ipython",
    "version": 3
   },
   "file_extension": ".py",
   "mimetype": "text/x-python",
   "name": "python",
   "nbconvert_exporter": "python",
   "pygments_lexer": "ipython3",
   "version": "3.8.5"
  }
 },
 "nbformat": 4,
 "nbformat_minor": 5
}
